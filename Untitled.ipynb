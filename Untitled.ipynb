{
 "cells": [
  {
   "cell_type": "code",
   "execution_count": 1,
   "id": "61d17b30",
   "metadata": {},
   "outputs": [
    {
     "data": {
      "text/plain": [
       "1.150456280727929"
      ]
     },
     "execution_count": 1,
     "metadata": {},
     "output_type": "execute_result"
    }
   ],
   "source": [
    "a=101.31/100\n",
    "b=101.61/100\n",
    "c=10258/10000\n",
    "d=10233/10000\n",
    "e=10144/10000\n",
    "f=10180/10000\n",
    "g=10310/10000\n",
    "a*b*c*d*e*f*g"
   ]
  },
  {
   "cell_type": "code",
   "execution_count": null,
   "id": "770ec64f",
   "metadata": {},
   "outputs": [],
   "source": []
  }
 ],
 "metadata": {
  "kernelspec": {
   "display_name": "Python 3 (ipykernel)",
   "language": "python",
   "name": "python3"
  },
  "language_info": {
   "codemirror_mode": {
    "name": "ipython",
    "version": 3
   },
   "file_extension": ".py",
   "mimetype": "text/x-python",
   "name": "python",
   "nbconvert_exporter": "python",
   "pygments_lexer": "ipython3",
   "version": "3.10.11"
  }
 },
 "nbformat": 4,
 "nbformat_minor": 5
}
